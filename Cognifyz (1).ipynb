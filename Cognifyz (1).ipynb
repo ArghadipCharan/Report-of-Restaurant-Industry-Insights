{
 "cells": [
  {
   "cell_type": "markdown",
   "id": "7978ede0-22f2-42fc-8765-da1235b18302",
   "metadata": {},
   "source": [
    "# Data Info."
   ]
  },
  {
   "cell_type": "code",
   "execution_count": 2,
   "id": "854dba22-e559-4d7b-ab2b-f1f723cb78f9",
   "metadata": {},
   "outputs": [],
   "source": [
    "import pandas as pd"
   ]
  },
  {
   "cell_type": "code",
   "execution_count": 3,
   "id": "07e5d169-405f-4266-a366-db1b434ad4b7",
   "metadata": {},
   "outputs": [
    {
     "data": {
      "text/html": [
       "<div>\n",
       "<style scoped>\n",
       "    .dataframe tbody tr th:only-of-type {\n",
       "        vertical-align: middle;\n",
       "    }\n",
       "\n",
       "    .dataframe tbody tr th {\n",
       "        vertical-align: top;\n",
       "    }\n",
       "\n",
       "    .dataframe thead th {\n",
       "        text-align: right;\n",
       "    }\n",
       "</style>\n",
       "<table border=\"1\" class=\"dataframe\">\n",
       "  <thead>\n",
       "    <tr style=\"text-align: right;\">\n",
       "      <th></th>\n",
       "      <th>Restaurant ID</th>\n",
       "      <th>Restaurant Name</th>\n",
       "      <th>Country Code</th>\n",
       "      <th>City</th>\n",
       "      <th>Address</th>\n",
       "      <th>Locality</th>\n",
       "      <th>Locality Verbose</th>\n",
       "      <th>Longitude</th>\n",
       "      <th>Latitude</th>\n",
       "      <th>Cuisines</th>\n",
       "      <th>...</th>\n",
       "      <th>Currency</th>\n",
       "      <th>Has Table booking</th>\n",
       "      <th>Has Online delivery</th>\n",
       "      <th>Is delivering now</th>\n",
       "      <th>Switch to order menu</th>\n",
       "      <th>Price range</th>\n",
       "      <th>Aggregate rating</th>\n",
       "      <th>Rating color</th>\n",
       "      <th>Rating text</th>\n",
       "      <th>Votes</th>\n",
       "    </tr>\n",
       "  </thead>\n",
       "  <tbody>\n",
       "    <tr>\n",
       "      <th>0</th>\n",
       "      <td>6317637</td>\n",
       "      <td>Le Petit Souffle</td>\n",
       "      <td>162</td>\n",
       "      <td>Makati City</td>\n",
       "      <td>Third Floor, Century City Mall, Kalayaan Avenu...</td>\n",
       "      <td>Century City Mall, Poblacion, Makati City</td>\n",
       "      <td>Century City Mall, Poblacion, Makati City, Mak...</td>\n",
       "      <td>121.027535</td>\n",
       "      <td>14.565443</td>\n",
       "      <td>French, Japanese, Desserts</td>\n",
       "      <td>...</td>\n",
       "      <td>Botswana Pula(P)</td>\n",
       "      <td>Yes</td>\n",
       "      <td>No</td>\n",
       "      <td>No</td>\n",
       "      <td>No</td>\n",
       "      <td>3</td>\n",
       "      <td>4.8</td>\n",
       "      <td>Dark Green</td>\n",
       "      <td>Excellent</td>\n",
       "      <td>314</td>\n",
       "    </tr>\n",
       "    <tr>\n",
       "      <th>1</th>\n",
       "      <td>6304287</td>\n",
       "      <td>Izakaya Kikufuji</td>\n",
       "      <td>162</td>\n",
       "      <td>Makati City</td>\n",
       "      <td>Little Tokyo, 2277 Chino Roces Avenue, Legaspi...</td>\n",
       "      <td>Little Tokyo, Legaspi Village, Makati City</td>\n",
       "      <td>Little Tokyo, Legaspi Village, Makati City, Ma...</td>\n",
       "      <td>121.014101</td>\n",
       "      <td>14.553708</td>\n",
       "      <td>Japanese</td>\n",
       "      <td>...</td>\n",
       "      <td>Botswana Pula(P)</td>\n",
       "      <td>Yes</td>\n",
       "      <td>No</td>\n",
       "      <td>No</td>\n",
       "      <td>No</td>\n",
       "      <td>3</td>\n",
       "      <td>4.5</td>\n",
       "      <td>Dark Green</td>\n",
       "      <td>Excellent</td>\n",
       "      <td>591</td>\n",
       "    </tr>\n",
       "    <tr>\n",
       "      <th>2</th>\n",
       "      <td>6300002</td>\n",
       "      <td>Heat - Edsa Shangri-La</td>\n",
       "      <td>162</td>\n",
       "      <td>Mandaluyong City</td>\n",
       "      <td>Edsa Shangri-La, 1 Garden Way, Ortigas, Mandal...</td>\n",
       "      <td>Edsa Shangri-La, Ortigas, Mandaluyong City</td>\n",
       "      <td>Edsa Shangri-La, Ortigas, Mandaluyong City, Ma...</td>\n",
       "      <td>121.056831</td>\n",
       "      <td>14.581404</td>\n",
       "      <td>Seafood, Asian, Filipino, Indian</td>\n",
       "      <td>...</td>\n",
       "      <td>Botswana Pula(P)</td>\n",
       "      <td>Yes</td>\n",
       "      <td>No</td>\n",
       "      <td>No</td>\n",
       "      <td>No</td>\n",
       "      <td>4</td>\n",
       "      <td>4.4</td>\n",
       "      <td>Green</td>\n",
       "      <td>Very Good</td>\n",
       "      <td>270</td>\n",
       "    </tr>\n",
       "    <tr>\n",
       "      <th>3</th>\n",
       "      <td>6318506</td>\n",
       "      <td>Ooma</td>\n",
       "      <td>162</td>\n",
       "      <td>Mandaluyong City</td>\n",
       "      <td>Third Floor, Mega Fashion Hall, SM Megamall, O...</td>\n",
       "      <td>SM Megamall, Ortigas, Mandaluyong City</td>\n",
       "      <td>SM Megamall, Ortigas, Mandaluyong City, Mandal...</td>\n",
       "      <td>121.056475</td>\n",
       "      <td>14.585318</td>\n",
       "      <td>Japanese, Sushi</td>\n",
       "      <td>...</td>\n",
       "      <td>Botswana Pula(P)</td>\n",
       "      <td>No</td>\n",
       "      <td>No</td>\n",
       "      <td>No</td>\n",
       "      <td>No</td>\n",
       "      <td>4</td>\n",
       "      <td>4.9</td>\n",
       "      <td>Dark Green</td>\n",
       "      <td>Excellent</td>\n",
       "      <td>365</td>\n",
       "    </tr>\n",
       "    <tr>\n",
       "      <th>4</th>\n",
       "      <td>6314302</td>\n",
       "      <td>Sambo Kojin</td>\n",
       "      <td>162</td>\n",
       "      <td>Mandaluyong City</td>\n",
       "      <td>Third Floor, Mega Atrium, SM Megamall, Ortigas...</td>\n",
       "      <td>SM Megamall, Ortigas, Mandaluyong City</td>\n",
       "      <td>SM Megamall, Ortigas, Mandaluyong City, Mandal...</td>\n",
       "      <td>121.057508</td>\n",
       "      <td>14.584450</td>\n",
       "      <td>Japanese, Korean</td>\n",
       "      <td>...</td>\n",
       "      <td>Botswana Pula(P)</td>\n",
       "      <td>Yes</td>\n",
       "      <td>No</td>\n",
       "      <td>No</td>\n",
       "      <td>No</td>\n",
       "      <td>4</td>\n",
       "      <td>4.8</td>\n",
       "      <td>Dark Green</td>\n",
       "      <td>Excellent</td>\n",
       "      <td>229</td>\n",
       "    </tr>\n",
       "  </tbody>\n",
       "</table>\n",
       "<p>5 rows × 21 columns</p>\n",
       "</div>"
      ],
      "text/plain": [
       "   Restaurant ID         Restaurant Name  Country Code              City  \\\n",
       "0        6317637        Le Petit Souffle           162       Makati City   \n",
       "1        6304287        Izakaya Kikufuji           162       Makati City   \n",
       "2        6300002  Heat - Edsa Shangri-La           162  Mandaluyong City   \n",
       "3        6318506                    Ooma           162  Mandaluyong City   \n",
       "4        6314302             Sambo Kojin           162  Mandaluyong City   \n",
       "\n",
       "                                             Address  \\\n",
       "0  Third Floor, Century City Mall, Kalayaan Avenu...   \n",
       "1  Little Tokyo, 2277 Chino Roces Avenue, Legaspi...   \n",
       "2  Edsa Shangri-La, 1 Garden Way, Ortigas, Mandal...   \n",
       "3  Third Floor, Mega Fashion Hall, SM Megamall, O...   \n",
       "4  Third Floor, Mega Atrium, SM Megamall, Ortigas...   \n",
       "\n",
       "                                     Locality  \\\n",
       "0   Century City Mall, Poblacion, Makati City   \n",
       "1  Little Tokyo, Legaspi Village, Makati City   \n",
       "2  Edsa Shangri-La, Ortigas, Mandaluyong City   \n",
       "3      SM Megamall, Ortigas, Mandaluyong City   \n",
       "4      SM Megamall, Ortigas, Mandaluyong City   \n",
       "\n",
       "                                    Locality Verbose   Longitude   Latitude  \\\n",
       "0  Century City Mall, Poblacion, Makati City, Mak...  121.027535  14.565443   \n",
       "1  Little Tokyo, Legaspi Village, Makati City, Ma...  121.014101  14.553708   \n",
       "2  Edsa Shangri-La, Ortigas, Mandaluyong City, Ma...  121.056831  14.581404   \n",
       "3  SM Megamall, Ortigas, Mandaluyong City, Mandal...  121.056475  14.585318   \n",
       "4  SM Megamall, Ortigas, Mandaluyong City, Mandal...  121.057508  14.584450   \n",
       "\n",
       "                           Cuisines  ...          Currency Has Table booking  \\\n",
       "0        French, Japanese, Desserts  ...  Botswana Pula(P)               Yes   \n",
       "1                          Japanese  ...  Botswana Pula(P)               Yes   \n",
       "2  Seafood, Asian, Filipino, Indian  ...  Botswana Pula(P)               Yes   \n",
       "3                   Japanese, Sushi  ...  Botswana Pula(P)                No   \n",
       "4                  Japanese, Korean  ...  Botswana Pula(P)               Yes   \n",
       "\n",
       "  Has Online delivery Is delivering now Switch to order menu Price range  \\\n",
       "0                  No                No                   No           3   \n",
       "1                  No                No                   No           3   \n",
       "2                  No                No                   No           4   \n",
       "3                  No                No                   No           4   \n",
       "4                  No                No                   No           4   \n",
       "\n",
       "   Aggregate rating  Rating color Rating text Votes  \n",
       "0               4.8    Dark Green   Excellent   314  \n",
       "1               4.5    Dark Green   Excellent   591  \n",
       "2               4.4         Green   Very Good   270  \n",
       "3               4.9    Dark Green   Excellent   365  \n",
       "4               4.8    Dark Green   Excellent   229  \n",
       "\n",
       "[5 rows x 21 columns]"
      ]
     },
     "execution_count": 3,
     "metadata": {},
     "output_type": "execute_result"
    }
   ],
   "source": [
    "df = pd.read_csv('Dataset .csv')\n",
    "df.head()"
   ]
  },
  {
   "cell_type": "code",
   "execution_count": 4,
   "id": "7c54964c-be82-4c4b-9524-cc3c39b95a64",
   "metadata": {},
   "outputs": [
    {
     "name": "stdout",
     "output_type": "stream",
     "text": [
      "Restaurant ID           0\n",
      "Restaurant Name         0\n",
      "Country Code            0\n",
      "City                    0\n",
      "Address                 0\n",
      "Locality                0\n",
      "Locality Verbose        0\n",
      "Longitude               0\n",
      "Latitude                0\n",
      "Cuisines                9\n",
      "Average Cost for two    0\n",
      "Currency                0\n",
      "Has Table booking       0\n",
      "Has Online delivery     0\n",
      "Is delivering now       0\n",
      "Switch to order menu    0\n",
      "Price range             0\n",
      "Aggregate rating        0\n",
      "Rating color            0\n",
      "Rating text             0\n",
      "Votes                   0\n",
      "dtype: int64\n"
     ]
    }
   ],
   "source": [
    "print(df.isnull().sum())"
   ]
  },
  {
   "cell_type": "code",
   "execution_count": 5,
   "id": "4d28091e-ba1e-4627-8a40-a4293502571e",
   "metadata": {},
   "outputs": [],
   "source": [
    "df = df.dropna(subset=['Cuisines'])"
   ]
  },
  {
   "cell_type": "code",
   "execution_count": 6,
   "id": "4bf5269a-874a-4d40-87d6-cd0fde7a8ed0",
   "metadata": {},
   "outputs": [
    {
     "name": "stdout",
     "output_type": "stream",
     "text": [
      "<class 'pandas.core.frame.DataFrame'>\n",
      "Index: 9542 entries, 0 to 9550\n",
      "Data columns (total 21 columns):\n",
      " #   Column                Non-Null Count  Dtype  \n",
      "---  ------                --------------  -----  \n",
      " 0   Restaurant ID         9542 non-null   int64  \n",
      " 1   Restaurant Name       9542 non-null   object \n",
      " 2   Country Code          9542 non-null   int64  \n",
      " 3   City                  9542 non-null   object \n",
      " 4   Address               9542 non-null   object \n",
      " 5   Locality              9542 non-null   object \n",
      " 6   Locality Verbose      9542 non-null   object \n",
      " 7   Longitude             9542 non-null   float64\n",
      " 8   Latitude              9542 non-null   float64\n",
      " 9   Cuisines              9542 non-null   object \n",
      " 10  Average Cost for two  9542 non-null   int64  \n",
      " 11  Currency              9542 non-null   object \n",
      " 12  Has Table booking     9542 non-null   object \n",
      " 13  Has Online delivery   9542 non-null   object \n",
      " 14  Is delivering now     9542 non-null   object \n",
      " 15  Switch to order menu  9542 non-null   object \n",
      " 16  Price range           9542 non-null   int64  \n",
      " 17  Aggregate rating      9542 non-null   float64\n",
      " 18  Rating color          9542 non-null   object \n",
      " 19  Rating text           9542 non-null   object \n",
      " 20  Votes                 9542 non-null   int64  \n",
      "dtypes: float64(3), int64(5), object(13)\n",
      "memory usage: 1.6+ MB\n"
     ]
    }
   ],
   "source": [
    "df.info()"
   ]
  },
  {
   "cell_type": "markdown",
   "id": "027a5319-deea-489c-95ab-a40076280722",
   "metadata": {
    "jp-MarkdownHeadingCollapsed": true
   },
   "source": [
    "# Leve1 - Top Cuisines (Task 1)"
   ]
  },
  {
   "cell_type": "code",
   "execution_count": 7,
   "id": "2274bba5-f2d6-4928-af0b-6faf6cf2d215",
   "metadata": {},
   "outputs": [
    {
     "name": "stdout",
     "output_type": "stream",
     "text": [
      "Top 3 Most Common Cuisines: \n",
      "Cuisines\n",
      "North Indian             936\n",
      "North Indian, Chinese    511\n",
      "Chinese                  354\n",
      "Name: count, dtype: int64\n"
     ]
    }
   ],
   "source": [
    "# 1. Determine the top three most common cuisines\n",
    "\n",
    "top_3_cuisines = df['Cuisines'].value_counts().head(3)\n",
    "print(\"Top 3 Most Common Cuisines: \")\n",
    "print(top_3_cuisines)"
   ]
  },
  {
   "cell_type": "code",
   "execution_count": 29,
   "id": "669ad732-46cf-43ef-ba34-899e6a164c66",
   "metadata": {},
   "outputs": [
    {
     "name": "stdout",
     "output_type": "stream",
     "text": [
      "Percentage of Restaurants Serving Each Cuisine:\n",
      "Cuisines\n",
      "North Indian             10.0\n",
      "North Indian, Chinese     5.0\n",
      "Chinese                   4.0\n",
      "Name: count, dtype: float64\n"
     ]
    }
   ],
   "source": [
    "# 2. Calculate the percentage of restaurants that serve each of the top cuisines\n",
    "\n",
    "total_restaurants = len(df)\n",
    "top_cuisines_percentage = (top_3_cuisines / total_restaurants) * 100\n",
    "top_cuisines_percentage_round = round(top_cuisines_percentage)\n",
    "print(\"Percentage of Restaurants Serving Each Cuisine:\")\n",
    "print(top_cuisines_percentage_round)"
   ]
  },
  {
   "cell_type": "markdown",
   "id": "e9a6c353-dfd3-48d2-bff8-0163de9f89d6",
   "metadata": {
    "jp-MarkdownHeadingCollapsed": true
   },
   "source": [
    "# Level 1 - City Analysis (Task 2)"
   ]
  },
  {
   "cell_type": "code",
   "execution_count": 9,
   "id": "7999b663-6d91-458e-9021-81be6b255d04",
   "metadata": {},
   "outputs": [],
   "source": [
    "import pandas as pd"
   ]
  },
  {
   "cell_type": "code",
   "execution_count": 10,
   "id": "5bfa31fc-c341-4e01-8d0f-80eeac0c7f0a",
   "metadata": {},
   "outputs": [
    {
     "name": "stdout",
     "output_type": "stream",
     "text": [
      "The city with the highest number of restaurants is New Delhi with 5473 restaurants.\n"
     ]
    }
   ],
   "source": [
    "# 1. Identify the city with the highest number of restaurants in the dataset.\n",
    "\n",
    "city_restaurant_count = df['City'].value_counts()\n",
    "most_restaurants_city = city_restaurant_count.idxmax()\n",
    "restaurant_count_max = city_restaurant_count.max()\n",
    "print(f\"The city with the highest number of restaurants is {most_restaurants_city} with {restaurant_count_max} restaurants.\")\n",
    "\n"
   ]
  },
  {
   "cell_type": "code",
   "execution_count": 35,
   "id": "c4471024-701f-4e70-95d8-0da247bbf197",
   "metadata": {},
   "outputs": [
    {
     "name": "stdout",
     "output_type": "stream",
     "text": [
      "Aaverage rating for restaurants:\n",
      "City\n",
      "Inner City          4.9\n",
      "Quezon City         4.8\n",
      "Makati City         4.6\n",
      "Pasig City          4.6\n",
      "Mandaluyong City    4.6\n",
      "Name: Aggregate rating, dtype: float64\n"
     ]
    }
   ],
   "source": [
    "# 2.Calculate the average rating for restaurants in each city.\n",
    "\n",
    "city_avg_rating = df.groupby('City')['Aggregate rating'].mean().sort_values(ascending=False)\n",
    "city_avg_rating_round = round(city_avg_rating, 1)\n",
    "print(\"Aaverage rating for restaurants:\")\n",
    "print(city_avg_rating_round.head())\n"
   ]
  },
  {
   "cell_type": "code",
   "execution_count": 12,
   "id": "f8c1f18b-18eb-4d95-b611-1ce6256dbf25",
   "metadata": {},
   "outputs": [
    {
     "name": "stdout",
     "output_type": "stream",
     "text": [
      "City with the highest average rating is Inner City with avg. rating 4.9\n"
     ]
    }
   ],
   "source": [
    "# Determine the city with the highest average rating.\n",
    "\n",
    "city_avg_rating = df.groupby('City')['Aggregate rating'].mean()\n",
    "highest_Avg_rating_city = city_avg_rating.idxmax()\n",
    "highest_Avg_rating = city_avg_rating.max()\n",
    "print(f\"City with the highest average rating is {highest_Avg_rating_city } with avg. rating {highest_Avg_rating}\")"
   ]
  },
  {
   "cell_type": "markdown",
   "id": "25c08788-3dde-420a-bd7c-ce80aaabc7e0",
   "metadata": {
    "jp-MarkdownHeadingCollapsed": true
   },
   "source": [
    "# Level 1 - Price Range Distribution (Task 3)"
   ]
  },
  {
   "cell_type": "code",
   "execution_count": 13,
   "id": "3f538e7e-b349-4839-a414-daee8e5cd530",
   "metadata": {},
   "outputs": [
    {
     "name": "stdout",
     "output_type": "stream",
     "text": [
      "Price range\n",
      "1    4438\n",
      "2    3113\n",
      "3    1405\n",
      "4     586\n",
      "Name: count, dtype: int64\n"
     ]
    },
    {
     "data": {
      "image/png": "[encoded data removed]",
      "text/plain": [
       "<Figure size 500x300 with 1 Axes>"
      ]
     },
     "metadata": {},
     "output_type": "display_data"
    }
   ],
   "source": [
    "# Create a histogram or bar chart to visualize the distribution of price ranges among the restaurants.\n",
    "\n",
    "import matplotlib.pyplot as plt\n",
    "\n",
    "price_range_count = df['Price range'].value_counts()\n",
    "print(price_range_count)\n",
    "\n",
    "plt.figure(figsize=(5, 3))\n",
    "plt.bar(price_range_count.index, price_range_count.values, color=['#1f77b4', '#ff7f0e', '#2ca02c'])\n",
    "\n",
    "plt.title('Distribution of Price Ranges Among Restaurants')\n",
    "plt.xlabel('Price Range')\n",
    "plt.ylabel('Number of Restaurants')\n",
    "plt.show()"
   ]
  },
  {
   "cell_type": "code",
   "execution_count": 38,
   "id": "4822d5b5-edac-44ec-b2e5-2b12816ccf6b",
   "metadata": {},
   "outputs": [
    {
     "name": "stdout",
     "output_type": "stream",
     "text": [
      "Price range\n",
      "1    47.0\n",
      "2    33.0\n",
      "3    15.0\n",
      "4     6.0\n",
      "Name: count, dtype: float64\n"
     ]
    }
   ],
   "source": [
    "# Calculate the percentage of restaurants in each price range category.\n",
    "\n",
    "price_range_count = df['Price range'].value_counts()\n",
    "price_range_percentage = round((price_range_count / len(df)) * 100)\n",
    "print(price_range_percentage)"
   ]
  },
  {
   "cell_type": "markdown",
   "id": "cfeb391b-a145-4c51-8901-953edb3ef847",
   "metadata": {
    "jp-MarkdownHeadingCollapsed": true
   },
   "source": [
    "# Level 1 - Online Delivery (Task 4)"
   ]
  },
  {
   "cell_type": "code",
   "execution_count": 15,
   "id": "b001b7f0-901b-4ed7-8213-5c4319ff51c3",
   "metadata": {},
   "outputs": [
    {
     "name": "stdout",
     "output_type": "stream",
     "text": [
      " 26 percentage of restaurants that offer online delivery\n"
     ]
    }
   ],
   "source": [
    "# Determine the percentage of restaurants that offer online delivery.\n",
    "\n",
    "total_restaurants = len(df)\n",
    "online_delivery_count = df['Has Online delivery'].value_counts()\n",
    "percentage_online_delivery = round((online_delivery_count['Yes'] / total_restaurants) * 100)\n",
    "print (f\" {percentage_online_delivery} percentage of restaurants that offer online delivery\")"
   ]
  },
  {
   "cell_type": "code",
   "execution_count": 41,
   "id": "4da8e0ec-59f3-49d9-8ed8-51381e8f9e48",
   "metadata": {},
   "outputs": [
    {
     "name": "stdout",
     "output_type": "stream",
     "text": [
      "Average ratings of restaurants with and without online delivery:\n",
      "Has Online delivery\n",
      "No     2.5\n",
      "Yes    3.2\n",
      "Name: Aggregate rating, dtype: float64\n"
     ]
    }
   ],
   "source": [
    "# Compare the average ratings of restaurants with and without online delivery.\n",
    "\n",
    "average_rating_comparison = round(df.groupby('Has Online delivery')['Aggregate rating'].mean(), 1)\n",
    "print(\"Average ratings of restaurants with and without online delivery:\")\n",
    "print(average_rating_comparison)"
   ]
  },
  {
   "cell_type": "markdown",
   "id": "f47ff0a0-b8a8-4d20-89bb-33d655f08ce3",
   "metadata": {
    "jp-MarkdownHeadingCollapsed": true
   },
   "source": [
    "# Level 2 - Restaurant Ratings (Task 1)"
   ]
  },
  {
   "cell_type": "code",
   "execution_count": 17,
   "id": "175f0823-f991-4bd3-9b5d-de94f0091a5f",
   "metadata": {},
   "outputs": [
    {
     "name": "stdout",
     "output_type": "stream",
     "text": [
      "Distribution of Ratings:\n",
      "RatingRange\n",
      "0-1    2148\n",
      "1-2      10\n",
      "2-3    1891\n",
      "3-4    4381\n",
      "4-5    1112\n",
      "Name: count, dtype: int64\n",
      "The most common rating range is 3-4\n"
     ]
    }
   ],
   "source": [
    "# Analyze the distribution of aggregate ratings and determine the most common rating range.\n",
    "\n",
    "bins = [0, 1, 2, 3, 4, 5]\n",
    "labels = ['0-1', '1-2', '2-3', '3-4', '4-5']\n",
    "\n",
    "df['RatingRange'] = pd.cut(df['Aggregate rating'], bins=bins, labels=labels, include_lowest=True)\n",
    "rating_range_distribution = df['RatingRange'].value_counts().sort_index()\n",
    "most_common_rating_range = rating_range_distribution.idxmax()\n",
    "\n",
    "print(\"Distribution of Ratings:\")\n",
    "print(rating_range_distribution)\n",
    "print(f\"The most common rating range is {most_common_rating_range}\")\n"
   ]
  },
  {
   "cell_type": "code",
   "execution_count": 18,
   "id": "dcf46eef-8f68-4c8e-ac21-c609f0e21f0d",
   "metadata": {},
   "outputs": [
    {
     "name": "stdout",
     "output_type": "stream",
     "text": [
      "Average number of votes received by restaurants 156.77\n"
     ]
    }
   ],
   "source": [
    "# Calculate the average number of votes received by restaurants.\n",
    "\n",
    "Avg_no_of_votes = df['Votes'].mean()\n",
    "roun_off = round(Avg_no_of_votes, 2)\n",
    "print (f'Average number of votes received by restaurants {roun_off}')"
   ]
  },
  {
   "cell_type": "markdown",
   "id": "39b1307f-5a5b-449c-913b-e21377e3863d",
   "metadata": {
    "jp-MarkdownHeadingCollapsed": true
   },
   "source": [
    "# Level 2 - Cuisine Combination (Task 2)"
   ]
  },
  {
   "cell_type": "code",
   "execution_count": 46,
   "id": "15671a1d-4e65-461f-acaf-8b45a05cc157",
   "metadata": {},
   "outputs": [
    {
     "name": "stdout",
     "output_type": "stream",
     "text": [
      "Most common combinations of cuisines North Indian\n",
      "Cuisines\n",
      "North Indian    936\n",
      "Name: count, dtype: int64\n"
     ]
    }
   ],
   "source": [
    "#Identify the most common combinations of cuisines in the dataset.\n",
    "\n",
    "common_cuisines_comb = df.groupby('Cuisines')['Cuisines'].value_counts().sort_values(ascending=False)\n",
    "most_common_comb = common_cuisines_comb.idxmax()\n",
    "count = common_cuisines_comb.max()\n",
    "\n",
    "print (f'Most common combinations of cuisines {most_common_comb}')\n",
    "print(common_cuisines_comb.head(1))\n"
   ]
  },
  {
   "cell_type": "code",
   "execution_count": 45,
   "id": "d1f8bcc0-ef98-4d19-a4f9-b457179a2a84",
   "metadata": {},
   "outputs": [
    {
     "name": "stdout",
     "output_type": "stream",
     "text": [
      "Cuisines\n",
      "Italian, Deli              4.9\n",
      "Hawaiian, Seafood          4.9\n",
      "American, Sandwich, Tea    4.9\n",
      "Continental, Indian        4.9\n",
      "European, Asian, Indian    4.9\n",
      "Name: Aggregate rating, dtype: float64\n"
     ]
    }
   ],
   "source": [
    "# Determine if certain cuisine combinations tend to have higher ratings.\n",
    "\n",
    "common_cuisines_comb = df.groupby('Cuisines')['Aggregate rating'].mean().sort_values(ascending=False)\n",
    "print(common_cuisines_comb.head())"
   ]
  },
  {
   "cell_type": "markdown",
   "id": "4557d129-7292-43b0-a23d-a05efbe245a0",
   "metadata": {
    "jp-MarkdownHeadingCollapsed": true
   },
   "source": [
    "# Level 2 - Geographic Analysis (Task 3)"
   ]
  },
  {
   "cell_type": "code",
   "execution_count": null,
   "id": "0089d492-6a19-491b-8b22-87362c160006",
   "metadata": {},
   "outputs": [],
   "source": [
    "# Plot the locations of restaurants on a map using longitude and latitude coordinates.\n",
    "\n",
    "pip install geopandas folium"
   ]
  },
  {
   "cell_type": "code",
   "execution_count": null,
   "id": "60fe1000-7251-4a7b-a074-6b7c2d19a9b1",
   "metadata": {},
   "outputs": [],
   "source": [
    "import folium\n",
    "\n",
    "map_center = [df['Latitude'].mean(), df['Longitude'].mean()]\n",
    "restaurant_map = folium.Map(location=map_center, zoom_start=12)\n",
    "\n",
    "for index, row in df.iterrows():\n",
    "    folium.Marker(\n",
    "        location=[row['Latitude'], row['Longitude']],\n",
    "        popup=f\"{row['Restaurant Name']} - Rating: {row['Aggregate rating']}\",\n",
    "    ).add_to(restaurant_map)\n",
    "    \n",
    "restaurant_map.save(\"restaurant_map.html\")"
   ]
  },
  {
   "cell_type": "code",
   "execution_count": null,
   "id": "780bfba8-2b5d-4ec7-a7b3-43900d19b13b",
   "metadata": {},
   "outputs": [],
   "source": [
    "import webbrowser\n",
    "webbrowser.open(\"restaurant_map.html\")"
   ]
  },
  {
   "cell_type": "code",
   "execution_count": 47,
   "id": "94af98c8-3488-4518-8789-0cfcafaa053a",
   "metadata": {},
   "outputs": [
    {
     "data": {
      "image/png": "[encoded data removed]",
      "text/plain": [
       "<Figure size 1000x500 with 2 Axes>"
      ]
     },
     "metadata": {},
     "output_type": "display_data"
    }
   ],
   "source": [
    "# Identify any patterns or clusters of restaurants in specific areas.\n",
    "\n",
    "from sklearn.cluster import DBSCAN\n",
    "import numpy as np\n",
    "import matplotlib.pyplot as plt\n",
    "\n",
    "coords = df[['Latitude', 'Longitude']].values\n",
    "db = DBSCAN(eps=0.01, min_samples=10).fit(coords)\n",
    "df['Cluster'] = db.labels_\n",
    "\n",
    "plt.figure(figsize=(10, 5))\n",
    "plt.scatter(df['Longitude'], df['Latitude'], c=df['Cluster'], cmap='tab10', s=50)\n",
    "plt.title('Clusters of Restaurants Based on Location')\n",
    "plt.xlabel('Longitude')\n",
    "plt.ylabel('Latitude')\n",
    "plt.colorbar(label='Cluster Label')\n",
    "plt.show()\n"
   ]
  },
  {
   "cell_type": "markdown",
   "id": "4d3a4665-99be-4636-9c97-f462a3aa9f98",
   "metadata": {
    "jp-MarkdownHeadingCollapsed": true
   },
   "source": [
    "# Level 2 - Resturent Chains (Task 4)"
   ]
  },
  {
   "cell_type": "code",
   "execution_count": 48,
   "id": "869dc5b3-4d65-400a-b1cf-aedbeb69e4d8",
   "metadata": {},
   "outputs": [
    {
     "name": "stdout",
     "output_type": "stream",
     "text": [
      "Restaurant Name\n",
      "Cafe Coffee Day     83\n",
      "Domino's Pizza      79\n",
      "Subway              63\n",
      "Green Chick Chop    51\n",
      "McDonald's          48\n",
      "Name: count, dtype: int64\n"
     ]
    }
   ],
   "source": [
    "# Identify if there are any restaurant chains present in the dataset.\n",
    "\n",
    "Resturent_chains_count = df['Restaurant Name'].value_counts().sort_values(ascending=False)\n",
    "restaurant_chains = Resturent_chains_count[Resturent_chains_count > 1]\n",
    "print (restaurant_chains.head())"
   ]
  },
  {
   "cell_type": "code",
   "execution_count": 69,
   "id": "9dcf3200-2762-41e9-acd9-e88dd46462d0",
   "metadata": {},
   "outputs": [
    {
     "name": "stdout",
     "output_type": "stream",
     "text": [
      "Restaurant Chains Sorted by Average Rating :\n",
      "                           avg_rating  total_votes  restaurant_count\n",
      "Restaurant Name                                                     \n",
      "Talaga Sampireun                  4.9         5514                 3\n",
      "Silantro Fil-Mex                  4.8         1364                 2\n",
      "AB's Absolute Barbecues           4.8         3151                 2\n",
      "AB's - Absolute Barbecues         4.8        13400                 4\n",
      "Naturals Ice Cream                4.8         3094                 2\n",
      "\n",
      "Restaurant Chains Sorted by Popularity (Total Votes):\n",
      "                           avg_rating  total_votes  restaurant_count\n",
      "Restaurant Name                                                     \n",
      "Barbeque Nation                   4.4        28142                26\n",
      "AB's - Absolute Barbecues         4.8        13400                 4\n",
      "Big Chill                         4.5        10853                 4\n",
      "Farzi Cafe                        4.4        10098                 6\n",
      "Truffles                          4.0         9682                 2\n"
     ]
    }
   ],
   "source": [
    "# Analyze the ratings and popularity of different restaurant chains.\n",
    "\n",
    "chain_analysis = df.groupby('Restaurant Name').agg(\n",
    "    avg_rating=('Aggregate rating', 'mean'),\n",
    "    total_votes=('Votes', 'sum'),\n",
    "    restaurant_count=('Restaurant Name', 'count')\n",
    ")\n",
    "\n",
    "chain_analysis_filtered = chain_analysis[chain_analysis['restaurant_count'] > 1]\n",
    "\n",
    "chain_analysis_sorted_by_rating = round (chain_analysis_filtered.sort_values(by='avg_rating', ascending=False), 1)\n",
    "chain_analysis_sorted_by_votes = round(chain_analysis_filtered.sort_values(by='total_votes', ascending=False), 1)\n",
    "\n",
    "print(\"Restaurant Chains Sorted by Average Rating :\")\n",
    "print(chain_analysis_sorted_by_rating.head())\n",
    "\n",
    "print(\"\\nRestaurant Chains Sorted by Popularity (Total Votes):\")\n",
    "print(chain_analysis_sorted_by_votes.head())\n"
   ]
  },
  {
   "cell_type": "markdown",
   "id": "120cb1fd-f1ac-4a24-bdf2-9a8fb556cb7e",
   "metadata": {
    "jp-MarkdownHeadingCollapsed": true
   },
   "source": [
    "# Level 3 - Restaurant Reviews (Task 1)"
   ]
  },
  {
   "cell_type": "code",
   "execution_count": 70,
   "id": "6d1827af-5800-41bb-83aa-6d4e19085053",
   "metadata": {},
   "outputs": [
    {
     "name": "stdout",
     "output_type": "stream",
     "text": [
      "Rating text\n",
      "Average      3734\n",
      "Not rated    2148\n",
      "Good         2096\n",
      "Very Good    1078\n",
      "Excellent     300\n",
      "Poor          186\n",
      "Name: count, dtype: int64\n",
      "Most common Positive keywords Good (2096) & Very Good (1078)\n",
      "Most common Negative keywords Average (3734) & Poor (186)\n"
     ]
    }
   ],
   "source": [
    "# Analyze the text reviews to identify the most common positive and negative keywords.\n",
    "\n",
    "most_common_keywords = df.groupby('Rating text')['Rating text'].value_counts().sort_values(ascending = False)\n",
    "print (most_common_keywords)\n",
    "print ('Most common Positive keywords Good (2096) & Very Good (1078)')\n",
    "print ('Most common Negative keywords Average (3734) & Poor (186)')"
   ]
  },
  {
   "cell_type": "code",
   "execution_count": 78,
   "id": "023a2e62-83a6-46c9-8c78-e7eeffd3cb28",
   "metadata": {},
   "outputs": [
    {
     "name": "stdout",
     "output_type": "stream",
     "text": [
      "Average Review Length: 1.34 words\n"
     ]
    },
    {
     "data": {
      "image/png": "[encoded data removed]",
      "text/plain": [
       "<Figure size 640x480 with 1 Axes>"
      ]
     },
     "metadata": {},
     "output_type": "display_data"
    },
    {
     "name": "stdout",
     "output_type": "stream",
     "text": [
      "Correlation between review length and rating: -0.5996823697522313\n"
     ]
    }
   ],
   "source": [
    "# Calculate the average length of reviews and explore if there is a relationship between review length and rating.\n",
    "\n",
    "reviews = df['Rating text']  \n",
    "ratings = df['Aggregate rating']\n",
    "\n",
    "review_lengths = reviews.apply(lambda x: len(x.split()))\n",
    "\n",
    "avg_review_length = round(review_lengths.mean(),2)\n",
    "print(f'Average Review Length: {avg_review_length} words')\n",
    "\n",
    "plt.scatter(review_lengths, ratings)\n",
    "plt.xlabel('Review Length (in words)')\n",
    "plt.ylabel('Rating text')\n",
    "plt.title('Relationship between Review Length and Rating')\n",
    "plt.show()\n",
    "\n",
    "correlation, _ = pearsonr(review_lengths, ratings)\n",
    "print(f'Correlation between review length and rating: {correlation}')"
   ]
  },
  {
   "cell_type": "markdown",
   "id": "b4137f01-dae1-4afc-a8a0-c1a1b7c80a22",
   "metadata": {
    "jp-MarkdownHeadingCollapsed": true
   },
   "source": [
    "# Level 3 - Votes Analysis (Task 2)"
   ]
  },
  {
   "cell_type": "code",
   "execution_count": 80,
   "id": "9a7a6194-f023-4f31-85cc-9cef649061a7",
   "metadata": {},
   "outputs": [
    {
     "name": "stdout",
     "output_type": "stream",
     "text": [
      "Resturents with the highest number of votes :\n",
      "Restaurant Name\n",
      "Toit                         10934\n",
      "Truffles                      9667\n",
      "Hauz Khas Social              7931\n",
      "Peter Cat                     7574\n",
      "AB's - Absolute Barbecues     6907\n",
      "Name: Votes, dtype: int64\n",
      "Resturents with the lowest number of votes :\n",
      "Restaurant Name\n",
      "Punjabi Paratha Station    1\n",
      "Mauja Hi Mauja             1\n",
      "Haochi                     1\n",
      "The Cake Basket            1\n",
      "Ahata                      1\n",
      "Name: Votes, dtype: int64\n"
     ]
    }
   ],
   "source": [
    "# Identify the restaurants with the highest and lowest number of votes.\n",
    "\n",
    "Votes_count_max = df.groupby('Restaurant Name')['Votes'].max().sort_values(ascending=False)\n",
    "Votes_count_min = df.groupby('Restaurant Name')['Votes'].min().sort_values(ascending=True)\n",
    "Votes_count_min_filtered = Votes_count_min.loc[Votes_count_min > 0]\n",
    "\n",
    "print (f'Resturents with the highest number of votes :') \n",
    "print (Votes_count_max.head())\n",
    "print (f'Resturents with the lowest number of votes :') \n",
    "print (Votes_count_min_filtered.head())"
   ]
  },
  {
   "cell_type": "code",
   "execution_count": 95,
   "id": "644d99bb-f05b-4bf3-8c42-9ce7243f78bd",
   "metadata": {},
   "outputs": [
    {
     "data": {
      "image/png": "[encoded data removed]",
      "text/plain": [
       "<Figure size 640x480 with 1 Axes>"
      ]
     },
     "metadata": {},
     "output_type": "display_data"
    },
    {
     "name": "stdout",
     "output_type": "stream",
     "text": [
      "Correlation between Votes and Rating: 0.31347418032500096\n"
     ]
    }
   ],
   "source": [
    "# Analyze if there is a correlation between the number of votes and the rating of a restaurant.\n",
    "\n",
    "import seaborn as sns\n",
    "import matplotlib.pyplot as plt\n",
    "\n",
    "sns.scatterplot(x='Aggregate rating', y='Votes', data=df)\n",
    "plt.title('Relationship Between Votes and Aggregate rating')\n",
    "plt.xlabel('Aggregate rating')\n",
    "plt.ylabel('Number of Votes')\n",
    "plt.show()\n",
    "\n",
    "correlation = df[['Votes', 'Aggregate rating']].corr().iloc[0, 1]\n",
    "print(f\"Correlation between Votes and Rating: {correlation}\")"
   ]
  },
  {
   "cell_type": "markdown",
   "id": "f1d860ce-db4b-4c6c-8396-b7ec7cdfb032",
   "metadata": {
    "jp-MarkdownHeadingCollapsed": true
   },
   "source": [
    "# Level 3 - Price Range vs. Online Delivery and Table Booking (Task 3)"
   ]
  },
  {
   "cell_type": "code",
   "execution_count": 81,
   "id": "dd435bd4-da19-4601-872a-0ab9afd2afc4",
   "metadata": {},
   "outputs": [
    {
     "name": "stdout",
     "output_type": "stream",
     "text": [
      "Price Range vs. Online Delivery:\n",
      " Has Online delivery    No   Yes\n",
      "Price range                    \n",
      "1                    3737   701\n",
      "2                    1827  1286\n",
      "3                     994   411\n",
      "4                     533    53\n",
      "\n",
      "Price Range vs. Table Booking:\n",
      " Has Table booking    No  Yes\n",
      "Price range                 \n",
      "1                  4437    1\n",
      "2                  2874  239\n",
      "3                   761  644\n",
      "4                   312  274\n"
     ]
    }
   ],
   "source": [
    "# Analyze if there is a relationship between the price range and the availability of online delivery and table booking.\n",
    "\n",
    "price_vs_delivery = pd.crosstab(df['Price range'], df['Has Online delivery'])\n",
    "print(\"Price Range vs. Online Delivery:\\n\", price_vs_delivery)\n",
    "\n",
    "price_vs_table_booking = pd.crosstab(df['Price range'], df['Has Table booking'])\n",
    "print(\"\\nPrice Range vs. Table Booking:\\n\", price_vs_table_booking)"
   ]
  },
  {
   "cell_type": "code",
   "execution_count": 83,
   "id": "f6363853-ccb9-4946-8a72-6400726d040c",
   "metadata": {},
   "outputs": [
    {
     "name": "stdout",
     "output_type": "stream",
     "text": [
      "\n",
      "Percentage of Restaurants Offering Online Delivery by Price Range:\n",
      " Has Online delivery    No   Yes\n",
      "Price range                    \n",
      "1                    84.0  16.0\n",
      "2                    59.0  41.0\n",
      "3                    71.0  29.0\n",
      "4                    91.0   9.0\n",
      "\n",
      "Percentage of Restaurants Offering Table Booking by Price Range:\n",
      " Has Table booking     No   Yes\n",
      "Price range                   \n",
      "1                  100.0   0.0\n",
      "2                   92.0   8.0\n",
      "3                   54.0  46.0\n",
      "4                   53.0  47.0\n"
     ]
    }
   ],
   "source": [
    "# Determine if higher-priced restaurants are more likely to offer these services.\n",
    "\n",
    "# Percentage of restaurants offering online delivery by price range\n",
    "price_delivery_percentage = df.groupby('Price range')['Has Online delivery'].value_counts(normalize=True).unstack() * 100\n",
    "price_delivery_percentage_round = round(price_delivery_percentage)\n",
    "print(\"\\nPercentage of Restaurants Offering Online Delivery by Price Range:\\n\", price_delivery_percentage_round)\n",
    "\n",
    "# Percentage of restaurants offering table booking by price range\n",
    "price_table_booking_percentage = df.groupby('Price range')['Has Table booking'].value_counts(normalize=True).unstack() * 100\n",
    "price_table_booking_percentage_round = round (price_table_booking_percentage)\n",
    "print(\"\\nPercentage of Restaurants Offering Table Booking by Price Range:\\n\", price_table_booking_percentage_round)\n"
   ]
  },
  {
   "cell_type": "code",
   "execution_count": 94,
   "id": "3cfac930-076b-4e60-9cfe-858944a56e3d",
   "metadata": {},
   "outputs": [
    {
     "data": {
      "image/png": "[encoded data removed]",
      "text/plain": [
       "<Figure size 500x300 with 1 Axes>"
      ]
     },
     "metadata": {},
     "output_type": "display_data"
    }
   ],
   "source": [
    "# Visualizing the percentage of restaurants offering online delivery by price range\n",
    "\n",
    "price_delivery_percentage_round.plot(kind='bar', stacked=True, figsize=(5, 3))\n",
    "plt.title('Percentage of Restaurants Offering Online Delivery by Price Range')\n",
    "plt.ylabel('Percentage')\n",
    "plt.legend(title=\"Has Online Delivery\", loc='center left', bbox_to_anchor=(1, 0.5))\n",
    "plt.show()"
   ]
  },
  {
   "cell_type": "code",
   "execution_count": 93,
   "id": "6e586b6d-1941-4aea-afb8-3881af5cb875",
   "metadata": {},
   "outputs": [
    {
     "data": {
      "image/png": "[encoded data removed]",
      "text/plain": [
       "<Figure size 500x300 with 1 Axes>"
      ]
     },
     "metadata": {},
     "output_type": "display_data"
    }
   ],
   "source": [
    "# Visualizing the percentage of restaurants offering table booking by price range\n",
    "\n",
    "price_table_booking_percentage_round.plot(kind='bar', stacked=True, figsize=(5, 3))\n",
    "plt.title('Percentage of Restaurants Offering Table Booking by Price Range')\n",
    "plt.ylabel('Percentage')\n",
    "plt.legend(title=\"Has Table Booking\", loc='center left', bbox_to_anchor=(1, 0.5))\n",
    "plt.show()"
   ]
  },
  {
   "cell_type": "code",
   "execution_count": null,
   "id": "b2144b51-ff59-4f49-8497-e3b7cbd2b026",
   "metadata": {},
   "outputs": [],
   "source": []
  }
 ],
 "metadata": {
  "kernelspec": {
   "display_name": "Python 3 (ipykernel)",
   "language": "python",
   "name": "python3"
  },
  "language_info": {
   "codemirror_mode": {
    "name": "ipython",
    "version": 3
   },
   "file_extension": ".py",
   "mimetype": "text/x-python",
   "name": "python",
   "nbconvert_exporter": "python",
   "pygments_lexer": "ipython3",
   "version": "3.12.4"
  }
 },
 "nbformat": 4,
 "nbformat_minor": 5
}
